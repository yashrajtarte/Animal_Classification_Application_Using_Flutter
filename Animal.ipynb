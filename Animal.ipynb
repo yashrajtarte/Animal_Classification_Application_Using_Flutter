{
 "cells": [
  {
   "cell_type": "code",
   "execution_count": 1,
   "id": "c78bbfb5",
   "metadata": {},
   "outputs": [],
   "source": [
    "import tensorflow as tf\n",
    "from tensorflow import keras\n",
    "import os\n",
    "\n",
    "base_dir = './dataset/train'"
   ]
  },
  {
   "cell_type": "code",
   "execution_count": 2,
   "id": "1a38c63d",
   "metadata": {},
   "outputs": [
    {
     "name": "stdout",
     "output_type": "stream",
     "text": [
      "Found 829 images belonging to 5 classes.\n",
      "Found 205 images belonging to 5 classes.\n"
     ]
    }
   ],
   "source": [
    "IMAGE_SIZE = 224\n",
    "BATCH_SIZE = 64\n",
    "\n",
    "datagen = tf.keras.preprocessing.image.ImageDataGenerator(\n",
    "    rescale = 1./255,\n",
    "    validation_split=0.2\n",
    ")\n",
    "\n",
    "train_generator = datagen.flow_from_directory(\n",
    "    base_dir,\n",
    "    target_size=(IMAGE_SIZE, IMAGE_SIZE),\n",
    "    batch_size = BATCH_SIZE,\n",
    "    subset='training'\n",
    ")\n",
    "val_generator = datagen.flow_from_directory(  #validation generator\n",
    "    base_dir, \n",
    "    target_size=(IMAGE_SIZE, IMAGE_SIZE),\n",
    "    batch_size=BATCH_SIZE,\n",
    "    subset='validation'\n",
    ")"
   ]
  },
  {
   "cell_type": "code",
   "execution_count": 3,
   "id": "70a69445",
   "metadata": {},
   "outputs": [
    {
     "name": "stdout",
     "output_type": "stream",
     "text": [
      "{'Elephant': 0, 'Kangaroo': 1, 'Panda': 2, 'Penguin': 3, 'Tiger': 4}\n"
     ]
    }
   ],
   "source": [
    "print(train_generator.class_indices)\n",
    "labels = '\\n'.join(sorted(train_generator.class_indices.keys()))\n",
    "with open('labels.txt', 'w') as f:\n",
    "    f.write(labels)"
   ]
  },
  {
   "cell_type": "code",
   "execution_count": 4,
   "id": "72eb983e",
   "metadata": {},
   "outputs": [
    {
     "name": "stdout",
     "output_type": "stream",
     "text": [
      "WARNING:tensorflow:From C:\\Users\\KIIT\\Anaconda3\\lib\\site-packages\\tensorflow\\python\\ops\\init_ops.py:1251: calling VarianceScaling.__init__ (from tensorflow.python.ops.init_ops) with dtype is deprecated and will be removed in a future version.\n",
      "Instructions for updating:\n",
      "Call initializer instance with the dtype argument instead of passing it to the constructor\n"
     ]
    }
   ],
   "source": [
    "IMG_SHAPE = (IMAGE_SIZE, IMAGE_SIZE, 3) \n",
    "base_model = tf.keras.applications.MobileNetV2(\n",
    "    input_shape=IMG_SHAPE,\n",
    "    include_top=False,\n",
    "    weights='imagenet'\n",
    ")"
   ]
  },
  {
   "cell_type": "code",
   "execution_count": 5,
   "id": "8733cf88",
   "metadata": {},
   "outputs": [],
   "source": [
    "base_model.trainable=False\n",
    "model = tf.keras.Sequential([\n",
    "  base_model,\n",
    "  tf.keras.layers.Conv2D(32,3, activation = 'relu'),\n",
    "  tf.keras.layers.Dropout(0.2),\n",
    "  tf.keras.layers.GlobalAveragePooling2D(),\n",
    "  tf.keras.layers.Dense(5, #no.of classes\n",
    "                        activation='softmax')\n",
    "])"
   ]
  },
  {
   "cell_type": "code",
   "execution_count": 6,
   "id": "39e7d41e",
   "metadata": {},
   "outputs": [],
   "source": [
    "model.compile(\n",
    "    optimizer=tf.keras.optimizers.Adam(),\n",
    "    loss='categorical_crossentropy', \n",
    "    metrics=['accuracy']\n",
    ")"
   ]
  },
  {
   "cell_type": "code",
   "execution_count": 7,
   "id": "55031c06",
   "metadata": {},
   "outputs": [
    {
     "name": "stdout",
     "output_type": "stream",
     "text": [
      "Epoch 1/10\n",
      "13/13 [==============================] - 201s 15s/step - loss: 1.8246 - acc: 0.5826 - val_loss: 0.4799 - val_acc: 0.8585\n",
      "Epoch 2/10\n",
      "13/13 [==============================] - 230s 18s/step - loss: 0.3067 - acc: 0.9180 - val_loss: 0.1975 - val_acc: 0.9317\n",
      "Epoch 3/10\n",
      "13/13 [==============================] - 241s 19s/step - loss: 0.1323 - acc: 0.9602 - val_loss: 0.1709 - val_acc: 0.9512\n",
      "Epoch 4/10\n",
      "13/13 [==============================] - 230s 18s/step - loss: 0.1156 - acc: 0.9650 - val_loss: 0.3520 - val_acc: 0.9415\n",
      "Epoch 5/10\n",
      "13/13 [==============================] - 234s 18s/step - loss: 0.0421 - acc: 0.9903 - val_loss: 0.1190 - val_acc: 0.9463\n",
      "Epoch 6/10\n",
      "13/13 [==============================] - 261s 20s/step - loss: 0.0470 - acc: 0.9867 - val_loss: 0.2501 - val_acc: 0.9415\n",
      "Epoch 7/10\n",
      "13/13 [==============================] - 248s 19s/step - loss: 0.0466 - acc: 0.9903 - val_loss: 0.1535 - val_acc: 0.9317\n",
      "Epoch 8/10\n",
      "13/13 [==============================] - 245s 19s/step - loss: 0.0267 - acc: 0.9928 - val_loss: 0.1605 - val_acc: 0.9561\n",
      "Epoch 9/10\n",
      "13/13 [==============================] - 233s 18s/step - loss: 0.0197 - acc: 0.9964 - val_loss: 0.1294 - val_acc: 0.9366\n",
      "Epoch 10/10\n",
      "13/13 [==============================] - 146s 11s/step - loss: 0.0159 - acc: 0.9976 - val_loss: 0.1103 - val_acc: 0.9561\n"
     ]
    }
   ],
   "source": [
    "epochs = 10\n",
    "history = model.fit(\n",
    "    train_generator, \n",
    "    epochs = epochs, \n",
    "    validation_data=val_generator\n",
    ")"
   ]
  },
  {
   "cell_type": "code",
   "execution_count": 8,
   "id": "74ea3494",
   "metadata": {},
   "outputs": [],
   "source": [
    "keras_file = 'predict.h5'\n",
    "keras.models.save_model(model, keras_file)"
   ]
  },
  {
   "cell_type": "code",
   "execution_count": 9,
   "id": "033d3185",
   "metadata": {},
   "outputs": [
    {
     "name": "stdout",
     "output_type": "stream",
     "text": []
    }
   ],
   "source": [
    "converter = tf.lite.TFLiteConverter.from_keras_model_file(keras_file)"
   ]
  },
  {
   "cell_type": "code",
   "execution_count": 10,
   "id": "f3980f0a",
   "metadata": {},
   "outputs": [
    {
     "data": {
      "text/plain": [
       "10328044"
      ]
     },
     "execution_count": 10,
     "metadata": {},
     "output_type": "execute_result"
    }
   ],
   "source": [
    "tflite_model = converter.convert()\n",
    "open('model.tflite', 'wb').write(tflite_model)"
   ]
  }
 ],
 "metadata": {
  "kernelspec": {
   "display_name": "Python 3",
   "language": "python",
   "name": "python3"
  },
  "language_info": {
   "codemirror_mode": {
    "name": "ipython",
    "version": 3
   },
   "file_extension": ".py",
   "mimetype": "text/x-python",
   "name": "python",
   "nbconvert_exporter": "python",
   "pygments_lexer": "ipython3",
   "version": "3.7.11"
  }
 },
 "nbformat": 4,
 "nbformat_minor": 5
}
